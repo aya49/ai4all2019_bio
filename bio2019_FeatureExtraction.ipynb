{
 "cells": [
  {
   "cell_type": "code",
   "execution_count": 7,
   "metadata": {},
   "outputs": [],
   "source": [
    "#Random Forest and Autoenconder\n",
    "\n",
    "import pyreadr\n",
    "\n",
    "result = pyreadr.read_r('Data/HTA20_RMA.RData') # also works for Rds\n"
   ]
  },
  {
   "cell_type": "code",
   "execution_count": 9,
   "metadata": {},
   "outputs": [
    {
     "name": "stdout",
     "output_type": "stream",
     "text": [
      "odict_keys(['eset_HTA20'])\n"
     ]
    }
   ],
   "source": [
    "print(result.keys()) # let's check what objects we got\n",
    "df1 = result[\"eset_HTA20\"] # extract the pandas data frame for object df1"
   ]
  },
  {
   "cell_type": "code",
   "execution_count": 14,
   "metadata": {},
   "outputs": [
    {
     "data": {
      "text/plain": [
       "(24130050, 1)"
      ]
     },
     "execution_count": 14,
     "metadata": {},
     "output_type": "execute_result"
    }
   ],
   "source": [
    "df1.shape\n",
    "\n",
    "# done! let's see what we got\n",
    "# result is a dictionary where keys are the name of objects and the values python\n",
    "# objects\n"
   ]
  }
 ],
 "metadata": {
  "kernelspec": {
   "display_name": "Python 3",
   "language": "python",
   "name": "python3"
  },
  "language_info": {
   "codemirror_mode": {
    "name": "ipython",
    "version": 3
   },
   "file_extension": ".py",
   "mimetype": "text/x-python",
   "name": "python",
   "nbconvert_exporter": "python",
   "pygments_lexer": "ipython3",
   "version": "3.7.3"
  }
 },
 "nbformat": 4,
 "nbformat_minor": 2
}
